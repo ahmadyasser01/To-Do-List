{
  "nbformat": 4,
  "nbformat_minor": 0,
  "metadata": {
    "colab": {
      "name": "tailor.ipynb",
      "provenance": [],
      "collapsed_sections": [],
      "include_colab_link": true
    },
    "kernelspec": {
      "name": "python3",
      "display_name": "Python 3"
    },
    "language_info": {
      "name": "python"
    }
  },
  "cells": [
    {
      "cell_type": "markdown",
      "metadata": {
        "id": "view-in-github",
        "colab_type": "text"
      },
      "source": [
        "<a href=\"https://colab.research.google.com/github/ahmadyasser01/To-Do-List/blob/main/tailor.ipynb\" target=\"_parent\"><img src=\"https://colab.research.google.com/assets/colab-badge.svg\" alt=\"Open In Colab\"/></a>"
      ]
    },
    {
      "cell_type": "code",
      "metadata": {
        "id": "HstluIFxUS0F"
      },
      "source": [
        "# !git clone https://github.com/chaitanya100100/TailorNet.git\n",
        "# !git clone https://github.com/MPI-IS/mesh.git\n",
        "!sudo apt install python3.7-venv\n",
        "!pip install tensorboardX chumpy\n"
      ],
      "execution_count": null,
      "outputs": []
    },
    {
      "cell_type": "code",
      "metadata": {
        "id": "kKE0WUqr8dKT"
      },
      "source": [
        "!wget 'https://nextcloud.mpi-klsb.mpg.de/index.php/s/W7a57iXRG9Yms6P/download?path=%2F&files=skirt_female.zip' -o /content/t-shirt-female-sample.zip"
      ],
      "execution_count": null,
      "outputs": []
    },
    {
      "cell_type": "code",
      "metadata": {
        "id": "5Wl4mPQE-ZaH"
      },
      "source": [
        "!unzip /content/test.zip"
      ],
      "execution_count": null,
      "outputs": []
    },
    {
      "cell_type": "code",
      "metadata": {
        "id": "KumFLnBiWYUw"
      },
      "source": [
        "%cd /content/mesh\n",
        "!python3 -m venv --copies my_venv\n",
        "!source my_venv/bin/activate\n",
        "!BOOST_INCLUDE_DIRS=/usr/include/boost/ make all"
      ],
      "execution_count": null,
      "outputs": []
    },
    {
      "cell_type": "code",
      "metadata": {
        "colab": {
          "base_uri": "https://localhost:8080/"
        },
        "id": "vsKq4K30Vxae",
        "outputId": "c593afa2-63d9-47db-9e19-6a1e41a20721"
      },
      "source": [
        "%cd /content/TailorNet\n",
        "!python run_tailornet.py"
      ],
      "execution_count": null,
      "outputs": [
        {
          "output_type": "stream",
          "name": "stdout",
          "text": [
            "/content/TailorNet\n",
            "USING LF LOG DIR:  /BS/cpatel/work/data/learn_anim/skirt_female_weights/tn_orig_lf/skirt_female\n",
            "USING HF LOG DIR:  /BS/cpatel/work/data/learn_anim/skirt_female_weights/tn_orig_hf/skirt_female\n",
            "USING SS2G LOG DIR:  /BS/cpatel/work/data/learn_anim/skirt_female_weights/tn_orig_ss2g/skirt_female\n",
            "Traceback (most recent call last):\n",
            "  File \"run_tailornet.py\", line 136, in <module>\n",
            "    run_tailornet()\n",
            "  File \"run_tailornet.py\", line 82, in run_tailornet\n",
            "    tn_runner = get_tn_runner(gender=gender, garment_class=garment_class)\n",
            "  File \"/content/TailorNet/models/tailornet_model.py\", line 105, in get_best_runner\n",
            "    runner = TailorNetModel(lf_logdir, hf_logdir, ss2g_logdir, garment_class, gender)\n",
            "  File \"/content/TailorNet/models/tailornet_model.py\", line 28, in __init__\n",
            "    shape_style_list_path='pivots.txt')\n",
            "  File \"/content/TailorNet/dataset/canonical_pose_dataset.py\", line 69, in __init__\n",
            "    self.apose = torch.from_numpy(get_Apose().astype(np.float32))\n",
            "  File \"/content/TailorNet/utils/rotation.py\", line 28, in get_Apose\n",
            "    with open(os.path.join(global_var.DATA_DIR, 'apose.pkl'), 'rb') as f:\n",
            "FileNotFoundError: [Errno 2] No such file or directory: '/BS/cloth-anim/static00/tailor_data/apose.pkl'\n"
          ]
        }
      ]
    },
    {
      "cell_type": "code",
      "metadata": {
        "id": "JncpSDDyK0vq"
      },
      "source": [
        ""
      ],
      "execution_count": null,
      "outputs": []
    }
  ]
}